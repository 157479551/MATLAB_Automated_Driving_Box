{
 "cells": [
  {
   "cell_type": "markdown",
   "metadata": {},
   "source": [
    "# Sensor Fusion Using Synthetic Radar and Vision Data\n",
    "\n",
    "This example shows how to generate a scenario, simulate sensor detections, and use sensor fusion to track simulated vehicles. The main benefit of using scenario generation and sensor simulation over sensor recording is the ability to create rare and potentially dangerous events and test the vehicle algorithms with them. This example covers the entire synthetic data workflow."
   ]
  },
  {
   "cell_type": "markdown",
   "metadata": {},
   "source": [
    "## Generate the Scenario\n",
    "\n",
    "Scenario generation comprises generating a road network, defining vehicles that move on the roads, and moving the vehicles.\n",
    "\n",
    "In this example, you test the ability of the sensor fusion to track a vehicle that is passing on the left of the ego vehicle. The scenario simulates a highway setting, and additional vehicles are in front of and behind the ego vehicle.\n",
    "\n",
    "Add a stretch of 500 meters of typical highway road with two lanes. The road is defined using a set of points, where each point defines the center of the road in 3-D space, and a road width.\n",
    "\n",
    "Create the ego vehicle and three cars around it: one that overtakes the ego vehicle and passes it on the left, one that drives right in front of the ego vehicle and one that drives right behind the ego vehicle. All the cars follow the path defined by the road waypoints by using the path driving policy. The passing car will start on the right lane, move to the left lane to pass, and return to the right lane."
   ]
  },
  {
   "cell_type": "code",
   "execution_count": 1,
   "metadata": {},
   "outputs": [],
   "source": [
    "% Define an empty scenario\n",
    "scenario = drivingScenario;\n",
    "scenario.SampleTime = 0.01;\n",
    "\n",
    "roadCenters = [0 0; 50 0; 100 0; 250 20; 500 40];\n",
    "roadWidth = 7.2; % Two lanes, each 3.6 meters\n",
    "road(scenario, roadCenters, roadWidth);\n",
    "\n",
    "% Create the ego vehicle that travels at 25 m/s along the road\n",
    "egoCar = vehicle(scenario, 'ClassID', 1);\n",
    "path(egoCar, roadCenters(2:end,:) - [0 1.8], 25); % On right lane\n",
    "\n",
    "% Add a car in front of the ego vehicle\n",
    "leadCar = vehicle(scenario, 'ClassID', 1);\n",
    "path(leadCar, [70 0; roadCenters(3:end,:)] - [0 1.8], 25); % On right lane\n",
    "\n",
    "% Add a car that travels at 35 m/s along the road and passes the ego vehicle\n",
    "passingCar = vehicle(scenario, 'ClassID', 1);\n",
    "waypoints = [0 -1.8; 50 1.8; 100 1.8; 250 21.8; 400 32.2; 500 38.2];\n",
    "path(passingCar, waypoints, 35);\n",
    "\n",
    "% Add a car behind the ego vehicle\n",
    "chaseCar = vehicle(scenario, 'ClassID', 1);\n",
    "path(chaseCar, [25 0; roadCenters(2:end,:)] - [0 1.8], 25); % On right lane"
   ]
  },
  {
   "cell_type": "markdown",
   "metadata": {},
   "source": [
    "## Define Radar and Vision Sensors\n",
    "\n",
    "In this example, you simulate an ego vehicle that has 6 radar sensors and 2 vision sensors covering the 360 degrees field of view. The sensors have some overlap and some coverage gap. The ego vehicle is equipped with a long-range radar sensor and a vision sensor on both the front and the back of the vehicle. Each side of the vehicle has two short-range radar sensors, each covering 90 degrees. One sensor on each side covers from the middle of the vehicle to the back. The other sensor on each side covers from the middle of the vehicle forward. The figure in the next section shows the coverage."
   ]
  },
  {
   "cell_type": "code",
   "execution_count": 2,
   "metadata": {
    "collapsed": true
   },
   "outputs": [],
   "source": [
    "sensors = cell(8,1);\n",
    "% Front-facing long-range radar sensor at the center of the front bumper of the car.\n",
    "sensors{1} = radarDetectionGenerator('SensorIndex', 1, 'Height', 0.2, 'MaxRange', 174, ...\n",
    "    'SensorLocation', [egoCar.Wheelbase + egoCar.FrontOverhang, 0], 'FieldOfView', [20, 5]);\n",
    "\n",
    "% Rear-facing long-range radar sensor at the center of the rear bumper of the car.\n",
    "sensors{2} = radarDetectionGenerator('SensorIndex', 2, 'Height', 0.2, 'Yaw', 180, ...\n",
    "    'SensorLocation', [-egoCar.RearOverhang, 0], 'MaxRange', 174, 'FieldOfView', [20, 5]);\n",
    "\n",
    "% Rear-left-facing short-range radar sensor at the left rear wheel well of the car.\n",
    "sensors{3} = radarDetectionGenerator('SensorIndex', 3, 'Height', 0.2, 'Yaw', 120, ...\n",
    "    'SensorLocation', [0, egoCar.Width/2], 'MaxRange', 30, 'ReferenceRange', 50, ...\n",
    "    'FieldOfView', [90, 5], 'AzimuthResolution', 10, 'RangeResolution', 1.25);\n",
    "\n",
    "% Rear-right-facing short-range radar sensor at the right rear wheel well of the car.\n",
    "sensors{4} = radarDetectionGenerator('SensorIndex', 4, 'Height', 0.2, 'Yaw', -120, ...\n",
    "    'SensorLocation', [0, -egoCar.Width/2], 'MaxRange', 30, 'ReferenceRange', 50, ...\n",
    "    'FieldOfView', [90, 5], 'AzimuthResolution', 10, 'RangeResolution', 1.25);\n",
    "\n",
    "% Front-left-facing short-range radar sensor at the left front wheel well of the car.\n",
    "sensors{5} = radarDetectionGenerator('SensorIndex', 5, 'Height', 0.2, 'Yaw', 60, ...\n",
    "    'SensorLocation', [egoCar.Wheelbase, egoCar.Width/2], 'MaxRange', 30, ...\n",
    "    'ReferenceRange', 50, 'FieldOfView', [90, 5], 'AzimuthResolution', 10, ...\n",
    "    'RangeResolution', 1.25);\n",
    "\n",
    "% Front-right-facing short-range radar sensor at the right front wheel well of the car.\n",
    "sensors{6} = radarDetectionGenerator('SensorIndex', 6, 'Height', 0.2, 'Yaw', -60, ...\n",
    "    'SensorLocation', [egoCar.Wheelbase, -egoCar.Width/2], 'MaxRange', 30, ...\n",
    "    'ReferenceRange', 50, 'FieldOfView', [90, 5], 'AzimuthResolution', 10, ...\n",
    "    'RangeResolution', 1.25);\n",
    "\n",
    "% Front-facing camera located at front windshield.\n",
    "sensors{7} = visionDetectionGenerator('SensorIndex', 7, 'FalsePositivesPerImage', 0.1, ...\n",
    "    'SensorLocation', [0.75*egoCar.Wheelbase 0], 'Height', 1.1);\n",
    "\n",
    "% Rear-facing camera located at rear windshield.\n",
    "sensors{8} = visionDetectionGenerator('SensorIndex', 8, 'FalsePositivesPerImage', 0.1, ...\n",
    "    'SensorLocation', [0.2*egoCar.Wheelbase 0], 'Height', 1.1, 'Yaw', 180);\n"
   ]
  },
  {
   "cell_type": "markdown",
   "metadata": {},
   "source": [
    "## Create a Tracker\n",
    "\n",
    "Create a multiObjectTracker to track the vehicles that are close to the ego vehicle. The tracker uses the initSimDemoFilter supporting function to initialize a constant velocity linear Kalman filter that works with position and velocity.\n",
    "\n",
    "Tracking is done in 2-D. Although the sensors return measurements in 3-D, the motion itself is confined to the horizontal plane, so there is no need to track the height."
   ]
  },
  {
   "cell_type": "code",
   "execution_count": 3,
   "metadata": {},
   "outputs": [
    {
     "data": {
      "image/png": "[encoded data removed]",
      "text/plain": [
       "<IPython.core.display.Image object>"
      ]
     },
     "metadata": {},
     "output_type": "display_data"
    }
   ],
   "source": [
    "tracker = multiObjectTracker('FilterInitializationFcn', @initSimDemoFilter, ...\n",
    "    'AssignmentThreshold', 30, 'ConfirmationParameters', [4 5]);\n",
    "positionSelector = [1 0 0 0; 0 0 1 0]; % Position selector\n",
    "velocitySelector = [0 1 0 0; 0 0 0 1]; % Velocity selector\n",
    "\n",
    "% Create the display and return a handle to the bird's-eye plot\n",
    "BEP = createDemoDisplay(egoCar, sensors);"
   ]
  },
  {
   "cell_type": "markdown",
   "metadata": {},
   "source": [
    "## Simulate the Scenario\n",
    "\n",
    "The following loop moves the vehicles, calls the sensor simulation, and performs the tracking.\n",
    "\n",
    "Note that the scenario generation and sensor simulation can have different time steps. Specifying different time steps for the scenario and the sensors enables you to decouple the scenario simulation from the sensor simulation. This is useful for modeling actor motion with high accuracy independently from the sensor's measurement rate.\n",
    "\n",
    "Another example is when the sensors have different update rates. Suppose one sensor provides updates every 20 milliseconds and another sensor provides updates every 50 milliseconds. You can specify the scenario with an update rate of 10 milliseconds and the sensors will provide their updates at the correct time.\n",
    "\n",
    "In this example, the scenario generation has a time step of 0.01 second, while the sensors detect every 0.1 second. The sensors return a logical flag, isValidTime, that is true if the sensors generated detections. This flag is used to call the tracker only when there are detections.\n",
    "\n",
    "Another important note is that the sensors can simulate multiple detections per target, in particular when the targets are very close to the radar sensors. Because the tracker assumes a single detection per target from each sensor, you must cluster the detections before the tracker processes them. This is done by the function clusterDetections. See the 'Supporting Functions' section."
   ]
  },
  {
   "cell_type": "code",
   "execution_count": 4,
   "metadata": {
    "collapsed": true
   },
   "outputs": [],
   "source": [
    "toSnap = true;\n",
    "while advance(scenario) && ishghandle(BEP.Parent)\n",
    "    % Get the scenario time\n",
    "    time = scenario.SimulationTime;\n",
    "\n",
    "    % Get the position of the other vehicle in ego vehicle coordinates\n",
    "    ta = targetPoses(egoCar);\n",
    "\n",
    "    % Simulate the sensors\n",
    "    detections = {};\n",
    "    isValidTime = false(1,8);\n",
    "    for i = 1:8\n",
    "        [sensorDets,numValidDets,isValidTime(i)] = sensors{i}(ta, time);\n",
    "        if numValidDets\n",
    "            for j = 1:numValidDets\n",
    "                % Vision detections do not report SNR. The tracker requires\n",
    "                % that they have the same object attributes as the radar\n",
    "                % detections. This adds the SNR object attribute to vision\n",
    "                % detections and sets it to a NaN.\n",
    "                if ~isfield(sensorDets{j}.ObjectAttributes{1}, 'SNR')\n",
    "                    sensorDets{j}.ObjectAttributes{1}.SNR = NaN;\n",
    "                end\n",
    "            end\n",
    "            detections = [detections; sensorDets]; %#ok<AGROW>\n",
    "        end\n",
    "    end\n",
    "\n",
    "    % Update the tracker if there are new detections\n",
    "    if any(isValidTime)\n",
    "        vehicleLength = sensors{1}.ActorProfiles.Length;\n",
    "        detectionClusters = clusterDetections(detections, vehicleLength);\n",
    "        confirmedTracks = updateTracks(tracker, detectionClusters, time);\n",
    "\n",
    "        % Update bird's-eye plot\n",
    "        updateBEP(BEP, egoCar, detections, confirmedTracks, positionSelector, velocitySelector);\n",
    "    end\n",
    "\n",
    "    % Snap a figure for the document when the car passes the ego vehicle\n",
    "    if ta(1).Position(1) > 0 && toSnap\n",
    "        toSnap = false;\n",
    "        snapnow\n",
    "    end\n",
    "end"
   ]
  },
  {
   "cell_type": "markdown",
   "metadata": {},
   "source": [
    "## Summary\n",
    "\n",
    "This example shows how to generate a scenario, simulate sensor detections, and use these detections to track moving vehicles around the ego vehicle.\n",
    "\n",
    "You can try to modify the scenario road, or add or remove vehicles. You can also try to add, remove, or modify the sensors on the ego vehicle, or modify the tracker parameters."
   ]
  },
  {
   "cell_type": "code",
   "execution_count": null,
   "metadata": {
    "collapsed": true
   },
   "outputs": [],
   "source": []
  }
 ],
 "metadata": {
  "kernelspec": {
   "display_name": "Matlab",
   "language": "matlab",
   "name": "matlab"
  },
  "language_info": {
   "codemirror_mode": "octave",
   "file_extension": ".m",
   "help_links": [
    {
     "text": "MetaKernel Magics",
     "url": "https://github.com/calysto/metakernel/blob/master/metakernel/magics/README.md"
    }
   ],
   "mimetype": "text/x-matlab",
   "name": "matlab",
   "version": "0.14.3"
  }
 },
 "nbformat": 4,
 "nbformat_minor": 2
}
